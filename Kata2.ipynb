{
 "cells": [
  {
   "cell_type": "markdown",
   "metadata": {},
   "source": [
    "### Notebook de la kata número 1 del propedéutico del programa Launch X\n",
    "José Miguel Medina Pérez\n",
    "\n",
    "En este módulo se creó un entorno virtual, se guardó en una ruta específica y se activó para instalar un paquete. En la captura de pantalla que se muestra en seguida se puede observar el procedimiento."
   ]
  },
  {
   "cell_type": "markdown",
   "metadata": {},
   "source": [
    "\n",
    "![](Kata2.jpg)"
   ]
  },
  {
   "cell_type": "code",
   "execution_count": null,
   "metadata": {},
   "outputs": [],
   "source": []
  }
 ],
 "metadata": {
  "interpreter": {
   "hash": "b28fa456de89e5d2cda0f6910e97f6dcd37427ec46680ee3c9ac2f0b66b752a0"
  },
  "kernelspec": {
   "display_name": "Python 3.7.4 ('base')",
   "language": "python",
   "name": "python3"
  },
  "language_info": {
   "name": "python",
   "version": "3.7.4"
  },
  "orig_nbformat": 4
 },
 "nbformat": 4,
 "nbformat_minor": 2
}
