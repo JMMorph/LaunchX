{
 "cells": [
  {
   "cell_type": "markdown",
   "metadata": {},
   "source": [
    "### Notebook de la kata número 1 del propedéutico del programa Launch X\n",
    "José Miguel Medina Pérez\n",
    "\n",
    "En este notebook se presentan las capturas de pantalla del desarrollo de los ejercicios"
   ]
  },
  {
   "cell_type": "markdown",
   "metadata": {},
   "source": [
    "![](src/Kata10p1.jpg)"
   ]
  },
  {
   "cell_type": "markdown",
   "metadata": {},
   "source": [
    "![](src/Kata10e1.jpg)"
   ]
  },
  {
   "cell_type": "markdown",
   "metadata": {},
   "source": [
    "![](src/Kata10p3.jpg)"
   ]
  },
  {
   "cell_type": "markdown",
   "metadata": {},
   "source": [
    "![](src/Kata10p4.jpg)"
   ]
  }
 ],
 "metadata": {
  "interpreter": {
   "hash": "b28fa456de89e5d2cda0f6910e97f6dcd37427ec46680ee3c9ac2f0b66b752a0"
  },
  "kernelspec": {
   "display_name": "Python 3.7.4 ('base')",
   "language": "python",
   "name": "python3"
  },
  "language_info": {
   "name": "python",
   "version": "3.7.4"
  },
  "orig_nbformat": 4
 },
 "nbformat": 4,
 "nbformat_minor": 2
}
